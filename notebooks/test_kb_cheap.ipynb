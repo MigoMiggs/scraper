{
 "cells": [
  {
   "cell_type": "code",
   "execution_count": 18,
   "id": "e6a644fc-9ef1-4616-88dd-7fc3ba2d6a0a",
   "metadata": {},
   "outputs": [],
   "source": [
    "from langchain.vectorstores import Chroma\n",
    "from dotenv import load_dotenv, find_dotenv\n",
    "from langchain.embeddings import HuggingFaceEmbeddings, OpenAIEmbeddings\n",
    "from langchain.chat_models import ChatOpenAI\n",
    "import openai\n",
    "from langchain.chains import RetrievalQA\n",
    "\n",
    "\n",
    "_ = load_dotenv(find_dotenv()) # read local .env file"
   ]
  },
  {
   "cell_type": "code",
   "execution_count": 19,
   "id": "3da21d7f-09d2-4f27-b4f7-bf4a240af39f",
   "metadata": {},
   "outputs": [],
   "source": [
    "embeddings_model_name = \"sentence-transformers/all-MiniLM-L6-v2\"\n",
    "embeddings = OpenAIEmbeddings()"
   ]
  },
  {
   "cell_type": "code",
   "execution_count": 20,
   "id": "d43f884c-1fbc-4d25-ae34-6617834e261e",
   "metadata": {},
   "outputs": [],
   "source": [
    "llm_model = \"gpt-3.5-turbo-16k\"\n",
    "llm = ChatOpenAI(model_name=llm_model, temperature=0)"
   ]
  },
  {
   "cell_type": "code",
   "execution_count": 21,
   "id": "168e7809-a575-45b9-8df4-50d9a9e43367",
   "metadata": {},
   "outputs": [
    {
     "name": "stdout",
     "output_type": "stream",
     "text": [
      "120547\n"
     ]
    }
   ],
   "source": [
    "persist_directory = '../chroma_clean_ada/'\n",
    "vectordb = Chroma(persist_directory=persist_directory, embedding_function=embeddings)\n",
    "\n",
    "print(vectordb._collection.count())\n"
   ]
  },
  {
   "cell_type": "code",
   "execution_count": 22,
   "id": "2f475cb3-75db-441a-8ada-d0cf4454de38",
   "metadata": {},
   "outputs": [],
   "source": [
    "qa_chain = RetrievalQA.from_chain_type(\n",
    "    llm,\n",
    "    retriever=vectordb.as_retriever()\n",
    ")"
   ]
  },
  {
   "cell_type": "code",
   "execution_count": 23,
   "id": "6cc84bec-384f-4dc4-aa49-a39094631836",
   "metadata": {},
   "outputs": [
    {
     "name": "stdout",
     "output_type": "stream",
     "text": [
      "Social equity is a significant consideration in the Orlando Resilience Plan. The plan aims to address social inequities and environmental justice by ensuring that all communities and individuals have access to affordable housing, healthy food, quality education, and quality healthcare. The plan also emphasizes the need to prepare all communities, businesses, and residents in Orlando to be resilient in the face of potential challenges. The development of recommendations in the plan takes into account the goal of addressing social inequities and environmental justice. The plan also seeks to mobilize sustainability efforts while ensuring that social equity is prioritized. Overall, the Orlando Resilience Plan aims to create a more equitable city and provide resources and support for all individuals to bounce back from adversity.\n"
     ]
    }
   ],
   "source": [
    "question = \"to what extent is social equity included in the Orlando Resilience Plan? and in what ways is it included?\"\n",
    "result = qa_chain({\"query\": question})\n",
    "print(result[\"result\"])"
   ]
  },
  {
   "cell_type": "code",
   "execution_count": null,
   "id": "c092f4b3-a1b5-4268-bcc6-2bcbbfdb2070",
   "metadata": {},
   "outputs": [],
   "source": []
  }
 ],
 "metadata": {
  "kernelspec": {
   "display_name": "Python 3 (ipykernel)",
   "language": "python",
   "name": "python3"
  },
  "language_info": {
   "codemirror_mode": {
    "name": "ipython",
    "version": 3
   },
   "file_extension": ".py",
   "mimetype": "text/x-python",
   "name": "python",
   "nbconvert_exporter": "python",
   "pygments_lexer": "ipython3",
   "version": "3.11.6"
  }
 },
 "nbformat": 4,
 "nbformat_minor": 5
}
